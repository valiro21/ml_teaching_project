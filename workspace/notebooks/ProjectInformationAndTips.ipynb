{
 "cells": [
  {
   "cell_type": "markdown",
   "metadata": {},
   "source": [
    "# Project requirements and tips\n",
    "\n",
    "\n",
    "## Setup\n",
    "\n",
    "Download the dataset from the [iris kaggle competition](https://www.kaggle.com/uciml/iris).\n",
    "Place the *csv* file it in a directory called *data* with the name *Iris.csv*.\n",
    "\n",
    "## Libraries\n",
    "\n",
    "If `install.sh` ran successfully, you should have all the required libraries:\n",
    "\n",
    "* `numpy` - Library for fast C++ arrays/matrix and operations on those.\n",
    "* `pandas` - Library for loading & processing & writing csv/json/etc. as matrixes.\n",
    "* `scikit-learn` - Library for machine learning algorithms. Mostly compatible with numpy & pandas.\n",
    "* `matplotlib` - Library for plots.\n",
    "* `seaborn` - Library for high level plots that uses `matplotlib` under the hood.\n"
   ]
  },
  {
   "cell_type": "markdown",
   "metadata": {},
   "source": [
    "# Data Science Walkthrough - Tips&Tricks"
   ]
  },
  {
   "cell_type": "markdown",
   "metadata": {},
   "source": [
    "# Data preprocessing"
   ]
  },
  {
   "cell_type": "code",
   "execution_count": 139,
   "metadata": {
    "jupyter": {
     "source_hidden": true
    }
   },
   "outputs": [],
   "source": [
    "from sklearn.pipeline import Pipeline\n",
    "from sklearn.compose import ColumnTransformer"
   ]
  },
  {
   "cell_type": "markdown",
   "metadata": {},
   "source": [
    "## Conversion of categorical columns to numerical columns"
   ]
  },
  {
   "cell_type": "code",
   "execution_count": 51,
   "metadata": {
    "jupyter": {
     "source_hidden": true
    }
   },
   "outputs": [
    {
     "data": {
      "text/html": [
       "<div>\n",
       "<style scoped>\n",
       "    .dataframe tbody tr th:only-of-type {\n",
       "        vertical-align: middle;\n",
       "    }\n",
       "\n",
       "    .dataframe tbody tr th {\n",
       "        vertical-align: top;\n",
       "    }\n",
       "\n",
       "    .dataframe thead th {\n",
       "        text-align: right;\n",
       "    }\n",
       "</style>\n",
       "<table border=\"1\" class=\"dataframe\">\n",
       "  <thead>\n",
       "    <tr style=\"text-align: right;\">\n",
       "      <th></th>\n",
       "      <th>speed</th>\n",
       "      <th>height</th>\n",
       "      <th>animal</th>\n",
       "      <th>quality</th>\n",
       "    </tr>\n",
       "  </thead>\n",
       "  <tbody>\n",
       "    <tr>\n",
       "      <th>0</th>\n",
       "      <td>20</td>\n",
       "      <td>0.3</td>\n",
       "      <td>cat</td>\n",
       "      <td>Poor</td>\n",
       "    </tr>\n",
       "    <tr>\n",
       "      <th>1</th>\n",
       "      <td>35</td>\n",
       "      <td>0.4</td>\n",
       "      <td>cat</td>\n",
       "      <td>Average</td>\n",
       "    </tr>\n",
       "    <tr>\n",
       "      <th>2</th>\n",
       "      <td>40</td>\n",
       "      <td>0.6</td>\n",
       "      <td>dog</td>\n",
       "      <td>Good</td>\n",
       "    </tr>\n",
       "    <tr>\n",
       "      <th>3</th>\n",
       "      <td>90</td>\n",
       "      <td>1.2</td>\n",
       "      <td>lion</td>\n",
       "      <td>Good</td>\n",
       "    </tr>\n",
       "    <tr>\n",
       "      <th>4</th>\n",
       "      <td>50</td>\n",
       "      <td>0.5</td>\n",
       "      <td>dog</td>\n",
       "      <td>Poor</td>\n",
       "    </tr>\n",
       "    <tr>\n",
       "      <th>5</th>\n",
       "      <td>80</td>\n",
       "      <td>1.4</td>\n",
       "      <td>lion</td>\n",
       "      <td>Average</td>\n",
       "    </tr>\n",
       "  </tbody>\n",
       "</table>\n",
       "</div>"
      ],
      "text/plain": [
       "   speed  height animal  quality\n",
       "0     20     0.3    cat     Poor\n",
       "1     35     0.4    cat  Average\n",
       "2     40     0.6    dog     Good\n",
       "3     90     1.2   lion     Good\n",
       "4     50     0.5    dog     Poor\n",
       "5     80     1.4   lion  Average"
      ]
     },
     "execution_count": 51,
     "metadata": {},
     "output_type": "execute_result"
    }
   ],
   "source": [
    "initial_data = pd.DataFrame({\n",
    "    'speed': [20, 35, 40, 90, 50, 80],\n",
    "    'height': [0.3, 0.4, 0.6, 1.2, 0.5, 1.4],\n",
    "    'animal': ['cat', 'cat', 'dog', 'lion', 'dog', 'lion'],\n",
    "    'quality': ['Poor', 'Average', 'Good', 'Good', 'Poor', 'Average']\n",
    "})\n",
    "data = initial_data.copy(deep=True)\n",
    "data"
   ]
  },
  {
   "cell_type": "markdown",
   "metadata": {},
   "source": [
    "### Method I: HashEncoding - Recommended for ordered categories\n",
    "\n",
    "Assign a different number for each category starting from 0. Used for columns with categories that can be ordered (in this example for the `quality` column) and for the label.\n",
    "\n",
    "To implement this use:\n",
    "\n",
    "* [For columns](https://scikit-learn.org/stable/modules/generated/sklearn.preprocessing.OrdinalEncoder.html#sklearn.preprocessing.OrdinalEncoder)\n",
    "* [For labels](https://scikit-learn.org/stable/modules/generated/sklearn.preprocessing.LabelEncoder.html)\n"
   ]
  },
  {
   "cell_type": "code",
   "execution_count": 59,
   "metadata": {
    "jupyter": {
     "source_hidden": true
    }
   },
   "outputs": [
    {
     "data": {
      "text/html": [
       "<div>\n",
       "<style scoped>\n",
       "    .dataframe tbody tr th:only-of-type {\n",
       "        vertical-align: middle;\n",
       "    }\n",
       "\n",
       "    .dataframe tbody tr th {\n",
       "        vertical-align: top;\n",
       "    }\n",
       "\n",
       "    .dataframe thead th {\n",
       "        text-align: right;\n",
       "    }\n",
       "</style>\n",
       "<table border=\"1\" class=\"dataframe\">\n",
       "  <thead>\n",
       "    <tr style=\"text-align: right;\">\n",
       "      <th></th>\n",
       "      <th>speed</th>\n",
       "      <th>height</th>\n",
       "      <th>animal</th>\n",
       "      <th>quality</th>\n",
       "    </tr>\n",
       "  </thead>\n",
       "  <tbody>\n",
       "    <tr>\n",
       "      <th>0</th>\n",
       "      <td>20</td>\n",
       "      <td>0.3</td>\n",
       "      <td>cat</td>\n",
       "      <td>0</td>\n",
       "    </tr>\n",
       "    <tr>\n",
       "      <th>1</th>\n",
       "      <td>35</td>\n",
       "      <td>0.4</td>\n",
       "      <td>cat</td>\n",
       "      <td>1</td>\n",
       "    </tr>\n",
       "    <tr>\n",
       "      <th>2</th>\n",
       "      <td>40</td>\n",
       "      <td>0.6</td>\n",
       "      <td>dog</td>\n",
       "      <td>2</td>\n",
       "    </tr>\n",
       "    <tr>\n",
       "      <th>3</th>\n",
       "      <td>90</td>\n",
       "      <td>1.2</td>\n",
       "      <td>lion</td>\n",
       "      <td>2</td>\n",
       "    </tr>\n",
       "    <tr>\n",
       "      <th>4</th>\n",
       "      <td>50</td>\n",
       "      <td>0.5</td>\n",
       "      <td>dog</td>\n",
       "      <td>0</td>\n",
       "    </tr>\n",
       "    <tr>\n",
       "      <th>5</th>\n",
       "      <td>80</td>\n",
       "      <td>1.4</td>\n",
       "      <td>lion</td>\n",
       "      <td>1</td>\n",
       "    </tr>\n",
       "  </tbody>\n",
       "</table>\n",
       "</div>"
      ],
      "text/plain": [
       "   speed  height animal  quality\n",
       "0     20     0.3    cat        0\n",
       "1     35     0.4    cat        1\n",
       "2     40     0.6    dog        2\n",
       "3     90     1.2   lion        2\n",
       "4     50     0.5    dog        0\n",
       "5     80     1.4   lion        1"
      ]
     },
     "execution_count": 59,
     "metadata": {},
     "output_type": "execute_result"
    }
   ],
   "source": [
    "data['quality'] = [0, 1, 2, 2, 0, 1]\n",
    "data"
   ]
  },
  {
   "cell_type": "markdown",
   "metadata": {},
   "source": [
    "### Method II: OneHotEncoding - Recommended for any other type of columns\n",
    "\n",
    "For each category create a new boolean column. Instances that have that categority will have a value of 1 (True) and 0 (False) otherwise.\n",
    "\n",
    "To implement this use:\n",
    "* [Using pandas](http://queirozf.com/entries/one-hot-encoding-a-feature-on-a-pandas-dataframe-an-example)\n",
    "* [Using scikit-learn](https://scikit-learn.org/stable/modules/generated/sklearn.preprocessing.OneHotEncoder.html)\n"
   ]
  },
  {
   "cell_type": "code",
   "execution_count": 60,
   "metadata": {
    "jupyter": {
     "source_hidden": true
    }
   },
   "outputs": [
    {
     "data": {
      "text/html": [
       "<div>\n",
       "<style scoped>\n",
       "    .dataframe tbody tr th:only-of-type {\n",
       "        vertical-align: middle;\n",
       "    }\n",
       "\n",
       "    .dataframe tbody tr th {\n",
       "        vertical-align: top;\n",
       "    }\n",
       "\n",
       "    .dataframe thead th {\n",
       "        text-align: right;\n",
       "    }\n",
       "</style>\n",
       "<table border=\"1\" class=\"dataframe\">\n",
       "  <thead>\n",
       "    <tr style=\"text-align: right;\">\n",
       "      <th></th>\n",
       "      <th>speed</th>\n",
       "      <th>height</th>\n",
       "      <th>quality</th>\n",
       "      <th>is_cat</th>\n",
       "      <th>is_dog</th>\n",
       "      <th>is_lion</th>\n",
       "    </tr>\n",
       "  </thead>\n",
       "  <tbody>\n",
       "    <tr>\n",
       "      <th>0</th>\n",
       "      <td>20</td>\n",
       "      <td>0.3</td>\n",
       "      <td>0</td>\n",
       "      <td>1</td>\n",
       "      <td>0</td>\n",
       "      <td>0</td>\n",
       "    </tr>\n",
       "    <tr>\n",
       "      <th>1</th>\n",
       "      <td>35</td>\n",
       "      <td>0.4</td>\n",
       "      <td>1</td>\n",
       "      <td>1</td>\n",
       "      <td>0</td>\n",
       "      <td>0</td>\n",
       "    </tr>\n",
       "    <tr>\n",
       "      <th>2</th>\n",
       "      <td>40</td>\n",
       "      <td>0.6</td>\n",
       "      <td>2</td>\n",
       "      <td>0</td>\n",
       "      <td>1</td>\n",
       "      <td>0</td>\n",
       "    </tr>\n",
       "    <tr>\n",
       "      <th>3</th>\n",
       "      <td>90</td>\n",
       "      <td>1.2</td>\n",
       "      <td>2</td>\n",
       "      <td>0</td>\n",
       "      <td>0</td>\n",
       "      <td>1</td>\n",
       "    </tr>\n",
       "    <tr>\n",
       "      <th>4</th>\n",
       "      <td>50</td>\n",
       "      <td>0.5</td>\n",
       "      <td>0</td>\n",
       "      <td>0</td>\n",
       "      <td>1</td>\n",
       "      <td>0</td>\n",
       "    </tr>\n",
       "    <tr>\n",
       "      <th>5</th>\n",
       "      <td>80</td>\n",
       "      <td>1.4</td>\n",
       "      <td>1</td>\n",
       "      <td>0</td>\n",
       "      <td>0</td>\n",
       "      <td>1</td>\n",
       "    </tr>\n",
       "  </tbody>\n",
       "</table>\n",
       "</div>"
      ],
      "text/plain": [
       "   speed  height  quality  is_cat  is_dog  is_lion\n",
       "0     20     0.3        0       1       0        0\n",
       "1     35     0.4        1       1       0        0\n",
       "2     40     0.6        2       0       1        0\n",
       "3     90     1.2        2       0       0        1\n",
       "4     50     0.5        0       0       1        0\n",
       "5     80     1.4        1       0       0        1"
      ]
     },
     "execution_count": 60,
     "metadata": {},
     "output_type": "execute_result"
    }
   ],
   "source": [
    "data['is_cat']  = [1, 1, 0, 0, 0, 0]\n",
    "data['is_dog']  = [0, 0, 1, 0, 1, 0]\n",
    "data['is_lion'] = [0, 0, 0, 1, 0, 1]\n",
    "data.drop(columns=['animal'], inplace=True)\n",
    "data"
   ]
  },
  {
   "cell_type": "markdown",
   "metadata": {},
   "source": [
    "## Normalization of columns\n",
    "\n",
    "Usually, different columns use different methods of measurements, different units and have different intervals for their values (in the example, speed between 0-300 and height between 0-2) as they represent different things (speed vs height). By data normalization, this differences will more or less not be as relevant as they will be converted to the same ranges."
   ]
  },
  {
   "cell_type": "markdown",
   "metadata": {},
   "source": [
    "### Method I: Standard Scaler\n",
    "\n",
    "Because columns usually have different means and standard deviations, it is desired to *standardize* them by making the mean 0 and the standard deviation 1, as some classifiers behave badly if this is not enforced.\n",
    "\n",
    "For each value, substract the mean and divide by the standard deviation:`\n",
    "* $x_{new} = \\frac{x\\ -\\ E[X]}{\\sigma[X]}$\n",
    "\n",
    "Using *standardization*, the new value will represent how far the value is from the mean. As such, the columns will have more or less the same meaning, how distant is that value from the the average.\n",
    "\n",
    "To standardize the data, use the [StandardScaler](https://scikit-learn.org/stable/modules/generated/sklearn.preprocessing.StandardScaler.html) offered by `scikit-learn`."
   ]
  },
  {
   "cell_type": "code",
   "execution_count": 170,
   "metadata": {
    "jupyter": {
     "source_hidden": true
    }
   },
   "outputs": [
    {
     "data": {
      "text/html": [
       "<div>\n",
       "<style scoped>\n",
       "    .dataframe tbody tr th:only-of-type {\n",
       "        vertical-align: middle;\n",
       "    }\n",
       "\n",
       "    .dataframe tbody tr th {\n",
       "        vertical-align: top;\n",
       "    }\n",
       "\n",
       "    .dataframe thead th {\n",
       "        text-align: right;\n",
       "    }\n",
       "</style>\n",
       "<table border=\"1\" class=\"dataframe\">\n",
       "  <thead>\n",
       "    <tr style=\"text-align: right;\">\n",
       "      <th></th>\n",
       "      <th>old_speed</th>\n",
       "      <th>old_height</th>\n",
       "      <th>speed</th>\n",
       "      <th>height</th>\n",
       "      <th>quality</th>\n",
       "      <th>is_cat</th>\n",
       "      <th>is_dog</th>\n",
       "      <th>is_lion</th>\n",
       "    </tr>\n",
       "  </thead>\n",
       "  <tbody>\n",
       "    <tr>\n",
       "      <th>0</th>\n",
       "      <td>20</td>\n",
       "      <td>0.3</td>\n",
       "      <td>-1.310971</td>\n",
       "      <td>-1.044185</td>\n",
       "      <td>0.0</td>\n",
       "      <td>1.0</td>\n",
       "      <td>0.0</td>\n",
       "      <td>0.0</td>\n",
       "    </tr>\n",
       "    <tr>\n",
       "      <th>1</th>\n",
       "      <td>35</td>\n",
       "      <td>0.4</td>\n",
       "      <td>-0.705907</td>\n",
       "      <td>-0.803219</td>\n",
       "      <td>1.0</td>\n",
       "      <td>1.0</td>\n",
       "      <td>0.0</td>\n",
       "      <td>0.0</td>\n",
       "    </tr>\n",
       "    <tr>\n",
       "      <th>2</th>\n",
       "      <td>40</td>\n",
       "      <td>0.6</td>\n",
       "      <td>-0.504219</td>\n",
       "      <td>-0.321288</td>\n",
       "      <td>2.0</td>\n",
       "      <td>0.0</td>\n",
       "      <td>1.0</td>\n",
       "      <td>0.0</td>\n",
       "    </tr>\n",
       "    <tr>\n",
       "      <th>3</th>\n",
       "      <td>90</td>\n",
       "      <td>1.2</td>\n",
       "      <td>1.512658</td>\n",
       "      <td>1.124507</td>\n",
       "      <td>2.0</td>\n",
       "      <td>0.0</td>\n",
       "      <td>0.0</td>\n",
       "      <td>1.0</td>\n",
       "    </tr>\n",
       "    <tr>\n",
       "      <th>4</th>\n",
       "      <td>50</td>\n",
       "      <td>0.5</td>\n",
       "      <td>-0.100844</td>\n",
       "      <td>-0.562254</td>\n",
       "      <td>0.0</td>\n",
       "      <td>0.0</td>\n",
       "      <td>1.0</td>\n",
       "      <td>0.0</td>\n",
       "    </tr>\n",
       "    <tr>\n",
       "      <th>5</th>\n",
       "      <td>80</td>\n",
       "      <td>1.4</td>\n",
       "      <td>1.109283</td>\n",
       "      <td>1.606439</td>\n",
       "      <td>1.0</td>\n",
       "      <td>0.0</td>\n",
       "      <td>0.0</td>\n",
       "      <td>1.0</td>\n",
       "    </tr>\n",
       "  </tbody>\n",
       "</table>\n",
       "</div>"
      ],
      "text/plain": [
       "   old_speed  old_height     speed    height  quality  is_cat  is_dog  is_lion\n",
       "0         20         0.3 -1.310971 -1.044185      0.0     1.0     0.0      0.0\n",
       "1         35         0.4 -0.705907 -0.803219      1.0     1.0     0.0      0.0\n",
       "2         40         0.6 -0.504219 -0.321288      2.0     0.0     1.0      0.0\n",
       "3         90         1.2  1.512658  1.124507      2.0     0.0     0.0      1.0\n",
       "4         50         0.5 -0.100844 -0.562254      0.0     0.0     1.0      0.0\n",
       "5         80         1.4  1.109283  1.606439      1.0     0.0     0.0      1.0"
      ]
     },
     "execution_count": 170,
     "metadata": {},
     "output_type": "execute_result"
    }
   ],
   "source": [
    "from sklearn.preprocessing import StandardScaler\n",
    "\n",
    "scaler = StandardScaler()\n",
    "pipeline = Pipeline([\n",
    "    (\n",
    "        'scaler',\n",
    "        ColumnTransformer([\n",
    "            ('StandardScaler', scaler, ['speed', 'height'])\n",
    "        ], remainder='passthrough')\n",
    "    )\n",
    "])\n",
    "pipeline.fit(data)\n",
    "pd.concat([\n",
    "    data[['speed', 'height']].rename({'speed': 'old_speed', 'height': 'old_height'}, axis=1),\n",
    "    pd.DataFrame(pipeline.transform(data), columns=data.columns)\n",
    "], axis=1)"
   ]
  },
  {
   "cell_type": "markdown",
   "metadata": {},
   "source": [
    "### Method II: RobustScaler\n",
    "\n",
    "If your data contains many outliers, scaling using the mean and variance of the data is likely to not work very well as they might get affected by the anomalies. To scale this kind of data, we first have to remove the outliers using statistical methods and the apply *standardization*.\n",
    "\n",
    "This is where [RobustScaler](https://scikit-learn.org/stable/modules/generated/sklearn.preprocessing.RobustScaler.html#sklearn.preprocessing.RobustScaler) comes into play. If first removes the outliers using the [IQR](https://en.wikipedia.org/wiki/Interquartile_range) method and then applies standardization:\n",
    "\n",
    "* Find the 25% percentile (the median of the first half of the numbers - $Q1$) and the 75% percetile (the median of the second half - $Q3$).\n",
    "* Compute the *Interquartile range*: $IRQ = Q3 - Q1$\n",
    "* Remove any number that satisfies either one of the:\n",
    "  * $x < Q1 - 1.5 * IRQ$\n",
    "  * $x > Q3 + 1.5 * IRQ$\n",
    "* Compute the standardization using the mean and standard deviation of the remaining values:\n",
    "  * $x_{new} = \\frac{x\\ -\\ E[X_{remaining}]}{\\sigma[X_{remaining}]}$"
   ]
  },
  {
   "cell_type": "code",
   "execution_count": 169,
   "metadata": {
    "jupyter": {
     "source_hidden": true
    }
   },
   "outputs": [
    {
     "data": {
      "text/html": [
       "<div>\n",
       "<style scoped>\n",
       "    .dataframe tbody tr th:only-of-type {\n",
       "        vertical-align: middle;\n",
       "    }\n",
       "\n",
       "    .dataframe tbody tr th {\n",
       "        vertical-align: top;\n",
       "    }\n",
       "\n",
       "    .dataframe thead th {\n",
       "        text-align: right;\n",
       "    }\n",
       "</style>\n",
       "<table border=\"1\" class=\"dataframe\">\n",
       "  <thead>\n",
       "    <tr style=\"text-align: right;\">\n",
       "      <th></th>\n",
       "      <th>old_speed</th>\n",
       "      <th>old_height</th>\n",
       "      <th>speed</th>\n",
       "      <th>height</th>\n",
       "      <th>quality</th>\n",
       "      <th>is_cat</th>\n",
       "      <th>is_dog</th>\n",
       "      <th>is_lion</th>\n",
       "    </tr>\n",
       "  </thead>\n",
       "  <tbody>\n",
       "    <tr>\n",
       "      <th>0</th>\n",
       "      <td>20</td>\n",
       "      <td>0.3</td>\n",
       "      <td>-0.689655</td>\n",
       "      <td>-0.40</td>\n",
       "      <td>0.0</td>\n",
       "      <td>1.0</td>\n",
       "      <td>0.0</td>\n",
       "      <td>0.0</td>\n",
       "    </tr>\n",
       "    <tr>\n",
       "      <th>1</th>\n",
       "      <td>35</td>\n",
       "      <td>0.4</td>\n",
       "      <td>-0.275862</td>\n",
       "      <td>-0.24</td>\n",
       "      <td>1.0</td>\n",
       "      <td>1.0</td>\n",
       "      <td>0.0</td>\n",
       "      <td>0.0</td>\n",
       "    </tr>\n",
       "    <tr>\n",
       "      <th>2</th>\n",
       "      <td>40</td>\n",
       "      <td>0.6</td>\n",
       "      <td>-0.137931</td>\n",
       "      <td>0.08</td>\n",
       "      <td>2.0</td>\n",
       "      <td>0.0</td>\n",
       "      <td>1.0</td>\n",
       "      <td>0.0</td>\n",
       "    </tr>\n",
       "    <tr>\n",
       "      <th>3</th>\n",
       "      <td>90</td>\n",
       "      <td>1.2</td>\n",
       "      <td>1.241379</td>\n",
       "      <td>1.04</td>\n",
       "      <td>2.0</td>\n",
       "      <td>0.0</td>\n",
       "      <td>0.0</td>\n",
       "      <td>1.0</td>\n",
       "    </tr>\n",
       "    <tr>\n",
       "      <th>4</th>\n",
       "      <td>50</td>\n",
       "      <td>0.5</td>\n",
       "      <td>0.137931</td>\n",
       "      <td>-0.08</td>\n",
       "      <td>0.0</td>\n",
       "      <td>0.0</td>\n",
       "      <td>1.0</td>\n",
       "      <td>0.0</td>\n",
       "    </tr>\n",
       "    <tr>\n",
       "      <th>5</th>\n",
       "      <td>80</td>\n",
       "      <td>1.4</td>\n",
       "      <td>0.965517</td>\n",
       "      <td>1.36</td>\n",
       "      <td>1.0</td>\n",
       "      <td>0.0</td>\n",
       "      <td>0.0</td>\n",
       "      <td>1.0</td>\n",
       "    </tr>\n",
       "  </tbody>\n",
       "</table>\n",
       "</div>"
      ],
      "text/plain": [
       "   old_speed  old_height     speed  height  quality  is_cat  is_dog  is_lion\n",
       "0         20         0.3 -0.689655   -0.40      0.0     1.0     0.0      0.0\n",
       "1         35         0.4 -0.275862   -0.24      1.0     1.0     0.0      0.0\n",
       "2         40         0.6 -0.137931    0.08      2.0     0.0     1.0      0.0\n",
       "3         90         1.2  1.241379    1.04      2.0     0.0     0.0      1.0\n",
       "4         50         0.5  0.137931   -0.08      0.0     0.0     1.0      0.0\n",
       "5         80         1.4  0.965517    1.36      1.0     0.0     0.0      1.0"
      ]
     },
     "execution_count": 169,
     "metadata": {},
     "output_type": "execute_result"
    }
   ],
   "source": [
    "from sklearn.preprocessing import RobustScaler\n",
    "\n",
    "scaler = RobustScaler()\n",
    "pipeline = Pipeline([\n",
    "    (\n",
    "        'scaler',\n",
    "        ColumnTransformer([\n",
    "            ('StandardScaler', scaler, ['speed', 'height'])\n",
    "        ], remainder='passthrough')\n",
    "    )\n",
    "])\n",
    "pipeline.fit(data)\n",
    "pd.concat([\n",
    "    data[['speed', 'height']].rename({'speed': 'old_speed', 'height': 'old_height'}, axis=1),\n",
    "    pd.DataFrame(pipeline.transform(data), columns=data.columns)\n",
    "], axis=1)"
   ]
  },
  {
   "cell_type": "markdown",
   "metadata": {},
   "source": [
    "### Method III: MinMax Scaler\n",
    "\n",
    "An alternative to *standardization* is scaling features to lie between a given minimum and maximum value, often between 0 and 1.\n",
    "\n",
    "For this, use the [MinMaxScaler](https://scikit-learn.org/stable/modules/generated/sklearn.preprocessing.MinMaxScaler.html#sklearn.preprocessing.MinMaxScaler) with interval (min, max). This uses the following formula:\n",
    "\n",
    "* $x_{new} = min + (max - min) * \\frac{x\\ -\\ \\underset{x}{min}\\ (X)}{\\underset{x}{max}\\ (X)\\ -\\ \\underset{x}{min}\\ (X)}$"
   ]
  },
  {
   "cell_type": "code",
   "execution_count": 171,
   "metadata": {
    "jupyter": {
     "source_hidden": true
    }
   },
   "outputs": [
    {
     "data": {
      "text/html": [
       "<div>\n",
       "<style scoped>\n",
       "    .dataframe tbody tr th:only-of-type {\n",
       "        vertical-align: middle;\n",
       "    }\n",
       "\n",
       "    .dataframe tbody tr th {\n",
       "        vertical-align: top;\n",
       "    }\n",
       "\n",
       "    .dataframe thead th {\n",
       "        text-align: right;\n",
       "    }\n",
       "</style>\n",
       "<table border=\"1\" class=\"dataframe\">\n",
       "  <thead>\n",
       "    <tr style=\"text-align: right;\">\n",
       "      <th></th>\n",
       "      <th>old_speed</th>\n",
       "      <th>old_height</th>\n",
       "      <th>speed</th>\n",
       "      <th>height</th>\n",
       "      <th>quality</th>\n",
       "      <th>is_cat</th>\n",
       "      <th>is_dog</th>\n",
       "      <th>is_lion</th>\n",
       "    </tr>\n",
       "  </thead>\n",
       "  <tbody>\n",
       "    <tr>\n",
       "      <th>0</th>\n",
       "      <td>20</td>\n",
       "      <td>0.3</td>\n",
       "      <td>0.000000</td>\n",
       "      <td>0.000000</td>\n",
       "      <td>0.0</td>\n",
       "      <td>1.0</td>\n",
       "      <td>0.0</td>\n",
       "      <td>0.0</td>\n",
       "    </tr>\n",
       "    <tr>\n",
       "      <th>1</th>\n",
       "      <td>35</td>\n",
       "      <td>0.4</td>\n",
       "      <td>0.214286</td>\n",
       "      <td>0.090909</td>\n",
       "      <td>1.0</td>\n",
       "      <td>1.0</td>\n",
       "      <td>0.0</td>\n",
       "      <td>0.0</td>\n",
       "    </tr>\n",
       "    <tr>\n",
       "      <th>2</th>\n",
       "      <td>40</td>\n",
       "      <td>0.6</td>\n",
       "      <td>0.285714</td>\n",
       "      <td>0.272727</td>\n",
       "      <td>2.0</td>\n",
       "      <td>0.0</td>\n",
       "      <td>1.0</td>\n",
       "      <td>0.0</td>\n",
       "    </tr>\n",
       "    <tr>\n",
       "      <th>3</th>\n",
       "      <td>90</td>\n",
       "      <td>1.2</td>\n",
       "      <td>1.000000</td>\n",
       "      <td>0.818182</td>\n",
       "      <td>2.0</td>\n",
       "      <td>0.0</td>\n",
       "      <td>0.0</td>\n",
       "      <td>1.0</td>\n",
       "    </tr>\n",
       "    <tr>\n",
       "      <th>4</th>\n",
       "      <td>50</td>\n",
       "      <td>0.5</td>\n",
       "      <td>0.428571</td>\n",
       "      <td>0.181818</td>\n",
       "      <td>0.0</td>\n",
       "      <td>0.0</td>\n",
       "      <td>1.0</td>\n",
       "      <td>0.0</td>\n",
       "    </tr>\n",
       "    <tr>\n",
       "      <th>5</th>\n",
       "      <td>80</td>\n",
       "      <td>1.4</td>\n",
       "      <td>0.857143</td>\n",
       "      <td>1.000000</td>\n",
       "      <td>1.0</td>\n",
       "      <td>0.0</td>\n",
       "      <td>0.0</td>\n",
       "      <td>1.0</td>\n",
       "    </tr>\n",
       "  </tbody>\n",
       "</table>\n",
       "</div>"
      ],
      "text/plain": [
       "   old_speed  old_height     speed    height  quality  is_cat  is_dog  is_lion\n",
       "0         20         0.3  0.000000  0.000000      0.0     1.0     0.0      0.0\n",
       "1         35         0.4  0.214286  0.090909      1.0     1.0     0.0      0.0\n",
       "2         40         0.6  0.285714  0.272727      2.0     0.0     1.0      0.0\n",
       "3         90         1.2  1.000000  0.818182      2.0     0.0     0.0      1.0\n",
       "4         50         0.5  0.428571  0.181818      0.0     0.0     1.0      0.0\n",
       "5         80         1.4  0.857143  1.000000      1.0     0.0     0.0      1.0"
      ]
     },
     "execution_count": 171,
     "metadata": {},
     "output_type": "execute_result"
    }
   ],
   "source": [
    "from sklearn.preprocessing import MinMaxScaler\n",
    "\n",
    "scaler = MinMaxScaler(feature_range=(0, 1))\n",
    "pipeline = Pipeline([\n",
    "    (\n",
    "        'scaler',\n",
    "        ColumnTransformer([\n",
    "            ('StandardScaler', scaler, ['speed', 'height'])\n",
    "        ], remainder='passthrough')\n",
    "    )\n",
    "])\n",
    "pipeline.fit(data)\n",
    "pd.concat([\n",
    "    data[['speed', 'height']].rename({'speed': 'old_speed', 'height': 'old_height'}, axis=1),\n",
    "    pd.DataFrame(pipeline.transform(data), columns=data.columns)\n",
    "], axis=1)"
   ]
  },
  {
   "cell_type": "markdown",
   "metadata": {},
   "source": [
    "### Method IV: MaxAbs Scaler\n",
    "\n",
    "Another simpler alternative is just ensuring that the maximum absolute value of the new column is 1. This way, the new inverval for the values will range at most between -1 and 1.\n",
    "\n",
    "For this, use the [MaxAbsScaler](https://scikit-learn.org/stable/modules/generated/sklearn.preprocessing.MaxAbsScaler.html#sklearn.preprocessing.MaxAbsScaler). This uses the following formula:\n",
    "\n",
    "* $x_{new} = \\frac{x}{\\underset{x}{max}\\ (|X|)}$"
   ]
  },
  {
   "cell_type": "code",
   "execution_count": 168,
   "metadata": {
    "jupyter": {
     "source_hidden": true
    }
   },
   "outputs": [
    {
     "data": {
      "text/html": [
       "<div>\n",
       "<style scoped>\n",
       "    .dataframe tbody tr th:only-of-type {\n",
       "        vertical-align: middle;\n",
       "    }\n",
       "\n",
       "    .dataframe tbody tr th {\n",
       "        vertical-align: top;\n",
       "    }\n",
       "\n",
       "    .dataframe thead th {\n",
       "        text-align: right;\n",
       "    }\n",
       "</style>\n",
       "<table border=\"1\" class=\"dataframe\">\n",
       "  <thead>\n",
       "    <tr style=\"text-align: right;\">\n",
       "      <th></th>\n",
       "      <th>old_speed</th>\n",
       "      <th>old_height</th>\n",
       "      <th>speed</th>\n",
       "      <th>height</th>\n",
       "      <th>quality</th>\n",
       "      <th>is_cat</th>\n",
       "      <th>is_dog</th>\n",
       "      <th>is_lion</th>\n",
       "    </tr>\n",
       "  </thead>\n",
       "  <tbody>\n",
       "    <tr>\n",
       "      <th>0</th>\n",
       "      <td>20</td>\n",
       "      <td>0.3</td>\n",
       "      <td>0.222222</td>\n",
       "      <td>0.214286</td>\n",
       "      <td>0.0</td>\n",
       "      <td>1.0</td>\n",
       "      <td>0.0</td>\n",
       "      <td>0.0</td>\n",
       "    </tr>\n",
       "    <tr>\n",
       "      <th>1</th>\n",
       "      <td>35</td>\n",
       "      <td>0.4</td>\n",
       "      <td>0.388889</td>\n",
       "      <td>0.285714</td>\n",
       "      <td>1.0</td>\n",
       "      <td>1.0</td>\n",
       "      <td>0.0</td>\n",
       "      <td>0.0</td>\n",
       "    </tr>\n",
       "    <tr>\n",
       "      <th>2</th>\n",
       "      <td>40</td>\n",
       "      <td>0.6</td>\n",
       "      <td>0.444444</td>\n",
       "      <td>0.428571</td>\n",
       "      <td>2.0</td>\n",
       "      <td>0.0</td>\n",
       "      <td>1.0</td>\n",
       "      <td>0.0</td>\n",
       "    </tr>\n",
       "    <tr>\n",
       "      <th>3</th>\n",
       "      <td>90</td>\n",
       "      <td>1.2</td>\n",
       "      <td>1.000000</td>\n",
       "      <td>0.857143</td>\n",
       "      <td>2.0</td>\n",
       "      <td>0.0</td>\n",
       "      <td>0.0</td>\n",
       "      <td>1.0</td>\n",
       "    </tr>\n",
       "    <tr>\n",
       "      <th>4</th>\n",
       "      <td>50</td>\n",
       "      <td>0.5</td>\n",
       "      <td>0.555556</td>\n",
       "      <td>0.357143</td>\n",
       "      <td>0.0</td>\n",
       "      <td>0.0</td>\n",
       "      <td>1.0</td>\n",
       "      <td>0.0</td>\n",
       "    </tr>\n",
       "    <tr>\n",
       "      <th>5</th>\n",
       "      <td>80</td>\n",
       "      <td>1.4</td>\n",
       "      <td>0.888889</td>\n",
       "      <td>1.000000</td>\n",
       "      <td>1.0</td>\n",
       "      <td>0.0</td>\n",
       "      <td>0.0</td>\n",
       "      <td>1.0</td>\n",
       "    </tr>\n",
       "  </tbody>\n",
       "</table>\n",
       "</div>"
      ],
      "text/plain": [
       "   old_speed  old_height     speed    height  quality  is_cat  is_dog  is_lion\n",
       "0         20         0.3  0.222222  0.214286      0.0     1.0     0.0      0.0\n",
       "1         35         0.4  0.388889  0.285714      1.0     1.0     0.0      0.0\n",
       "2         40         0.6  0.444444  0.428571      2.0     0.0     1.0      0.0\n",
       "3         90         1.2  1.000000  0.857143      2.0     0.0     0.0      1.0\n",
       "4         50         0.5  0.555556  0.357143      0.0     0.0     1.0      0.0\n",
       "5         80         1.4  0.888889  1.000000      1.0     0.0     0.0      1.0"
      ]
     },
     "execution_count": 168,
     "metadata": {},
     "output_type": "execute_result"
    }
   ],
   "source": [
    "from sklearn.preprocessing import MaxAbsScaler\n",
    "\n",
    "scaler = MaxAbsScaler()\n",
    "pipeline = Pipeline([\n",
    "    (\n",
    "        'scaler',\n",
    "        ColumnTransformer([\n",
    "            ('StandardScaler', scaler, ['speed', 'height'])\n",
    "        ], remainder='passthrough')\n",
    "    )\n",
    "])\n",
    "pipeline.fit(data)\n",
    "pd.concat([\n",
    "    data[['speed', 'height']].rename({'speed': 'old_speed', 'height': 'old_height'}, axis=1),\n",
    "    pd.DataFrame(pipeline.transform(data), columns=data.columns)\n",
    "], axis=1)"
   ]
  },
  {
   "cell_type": "markdown",
   "metadata": {},
   "source": [
    "## Feature creation / selection\n",
    "\n",
    "Sometimes, the features that are present are not enought to for a classifier to use or are two many and wish to have less features. In this case, new features are created by multiplying, dividing squaring and even using random formulas to combine features and form new ones to add to the dataset or in place of the existing ones. Sometimes if a feature is not relevant it is removed entirely."
   ]
  },
  {
   "cell_type": "markdown",
   "metadata": {},
   "source": [
    "### Method I: Simple division / substraction / addition\n",
    "\n",
    "In some cases, a new feature can be created by dividing (or adding / substracting) two columns. There is no special class or method here for this, you can simply use [pandas](https://pandas.pydata.org/pandas-docs/stable/reference/api/pandas.Series.divide.html)."
   ]
  },
  {
   "cell_type": "code",
   "execution_count": 68,
   "metadata": {
    "jupyter": {
     "source_hidden": true
    }
   },
   "outputs": [
    {
     "data": {
      "text/html": [
       "<div>\n",
       "<style scoped>\n",
       "    .dataframe tbody tr th:only-of-type {\n",
       "        vertical-align: middle;\n",
       "    }\n",
       "\n",
       "    .dataframe tbody tr th {\n",
       "        vertical-align: top;\n",
       "    }\n",
       "\n",
       "    .dataframe thead th {\n",
       "        text-align: right;\n",
       "    }\n",
       "</style>\n",
       "<table border=\"1\" class=\"dataframe\">\n",
       "  <thead>\n",
       "    <tr style=\"text-align: right;\">\n",
       "      <th></th>\n",
       "      <th>speed</th>\n",
       "      <th>height</th>\n",
       "      <th>quality</th>\n",
       "      <th>is_cat</th>\n",
       "      <th>is_dog</th>\n",
       "      <th>is_lion</th>\n",
       "      <th>speed / height</th>\n",
       "    </tr>\n",
       "  </thead>\n",
       "  <tbody>\n",
       "    <tr>\n",
       "      <th>0</th>\n",
       "      <td>20</td>\n",
       "      <td>0.3</td>\n",
       "      <td>0</td>\n",
       "      <td>1</td>\n",
       "      <td>0</td>\n",
       "      <td>0</td>\n",
       "      <td>66.666667</td>\n",
       "    </tr>\n",
       "    <tr>\n",
       "      <th>1</th>\n",
       "      <td>35</td>\n",
       "      <td>0.4</td>\n",
       "      <td>1</td>\n",
       "      <td>1</td>\n",
       "      <td>0</td>\n",
       "      <td>0</td>\n",
       "      <td>87.500000</td>\n",
       "    </tr>\n",
       "    <tr>\n",
       "      <th>2</th>\n",
       "      <td>40</td>\n",
       "      <td>0.6</td>\n",
       "      <td>2</td>\n",
       "      <td>0</td>\n",
       "      <td>1</td>\n",
       "      <td>0</td>\n",
       "      <td>66.666667</td>\n",
       "    </tr>\n",
       "    <tr>\n",
       "      <th>3</th>\n",
       "      <td>90</td>\n",
       "      <td>1.2</td>\n",
       "      <td>2</td>\n",
       "      <td>0</td>\n",
       "      <td>0</td>\n",
       "      <td>1</td>\n",
       "      <td>75.000000</td>\n",
       "    </tr>\n",
       "    <tr>\n",
       "      <th>4</th>\n",
       "      <td>50</td>\n",
       "      <td>0.5</td>\n",
       "      <td>0</td>\n",
       "      <td>0</td>\n",
       "      <td>1</td>\n",
       "      <td>0</td>\n",
       "      <td>100.000000</td>\n",
       "    </tr>\n",
       "    <tr>\n",
       "      <th>5</th>\n",
       "      <td>80</td>\n",
       "      <td>1.4</td>\n",
       "      <td>1</td>\n",
       "      <td>0</td>\n",
       "      <td>0</td>\n",
       "      <td>1</td>\n",
       "      <td>57.142857</td>\n",
       "    </tr>\n",
       "  </tbody>\n",
       "</table>\n",
       "</div>"
      ],
      "text/plain": [
       "   speed  height  quality  is_cat  is_dog  is_lion  speed / height\n",
       "0     20     0.3        0       1       0        0       66.666667\n",
       "1     35     0.4        1       1       0        0       87.500000\n",
       "2     40     0.6        2       0       1        0       66.666667\n",
       "3     90     1.2        2       0       0        1       75.000000\n",
       "4     50     0.5        0       0       1        0      100.000000\n",
       "5     80     1.4        1       0       0        1       57.142857"
      ]
     },
     "execution_count": 68,
     "metadata": {},
     "output_type": "execute_result"
    }
   ],
   "source": [
    "new_data = data.copy(deep=True)\n",
    "new_data['speed / height'] = data['speed'] / data['height']\n",
    "new_data"
   ]
  },
  {
   "cell_type": "markdown",
   "metadata": {},
   "source": [
    "### Method II: Polynomial Transform\n",
    "\n",
    "Simple classifiers like decision trees can be too simple in some cases. One solution that can work is to create new more complex features from the existing ones either by squaring them (or even using the n-th power) or multiply them two by two.\n",
    "\n",
    "To do this, use the [PolynomialFeatures](https://scikit-learn.org/stable/modules/generated/sklearn.preprocessing.PolynomialFeatures.html) from the `scikit-learn` library."
   ]
  },
  {
   "cell_type": "code",
   "execution_count": 100,
   "metadata": {
    "jupyter": {
     "source_hidden": true
    }
   },
   "outputs": [
    {
     "data": {
      "text/html": [
       "<div>\n",
       "<style scoped>\n",
       "    .dataframe tbody tr th:only-of-type {\n",
       "        vertical-align: middle;\n",
       "    }\n",
       "\n",
       "    .dataframe tbody tr th {\n",
       "        vertical-align: top;\n",
       "    }\n",
       "\n",
       "    .dataframe thead th {\n",
       "        text-align: right;\n",
       "    }\n",
       "</style>\n",
       "<table border=\"1\" class=\"dataframe\">\n",
       "  <thead>\n",
       "    <tr style=\"text-align: right;\">\n",
       "      <th></th>\n",
       "      <th>speed</th>\n",
       "      <th>height</th>\n",
       "      <th>quality</th>\n",
       "      <th>is_cat</th>\n",
       "      <th>is_dog</th>\n",
       "      <th>is_lion</th>\n",
       "      <th>speed^2</th>\n",
       "      <th>speed height</th>\n",
       "      <th>speed quality</th>\n",
       "      <th>speed is_cat</th>\n",
       "      <th>...</th>\n",
       "      <th>quality^2</th>\n",
       "      <th>quality is_cat</th>\n",
       "      <th>quality is_dog</th>\n",
       "      <th>quality is_lion</th>\n",
       "      <th>is_cat^2</th>\n",
       "      <th>is_cat is_dog</th>\n",
       "      <th>is_cat is_lion</th>\n",
       "      <th>is_dog^2</th>\n",
       "      <th>is_dog is_lion</th>\n",
       "      <th>is_lion^2</th>\n",
       "    </tr>\n",
       "  </thead>\n",
       "  <tbody>\n",
       "    <tr>\n",
       "      <th>0</th>\n",
       "      <td>20.0</td>\n",
       "      <td>0.3</td>\n",
       "      <td>0.0</td>\n",
       "      <td>1.0</td>\n",
       "      <td>0.0</td>\n",
       "      <td>0.0</td>\n",
       "      <td>400.0</td>\n",
       "      <td>6.0</td>\n",
       "      <td>0.0</td>\n",
       "      <td>20.0</td>\n",
       "      <td>...</td>\n",
       "      <td>0.0</td>\n",
       "      <td>0.0</td>\n",
       "      <td>0.0</td>\n",
       "      <td>0.0</td>\n",
       "      <td>1.0</td>\n",
       "      <td>0.0</td>\n",
       "      <td>0.0</td>\n",
       "      <td>0.0</td>\n",
       "      <td>0.0</td>\n",
       "      <td>0.0</td>\n",
       "    </tr>\n",
       "    <tr>\n",
       "      <th>1</th>\n",
       "      <td>35.0</td>\n",
       "      <td>0.4</td>\n",
       "      <td>1.0</td>\n",
       "      <td>1.0</td>\n",
       "      <td>0.0</td>\n",
       "      <td>0.0</td>\n",
       "      <td>1225.0</td>\n",
       "      <td>14.0</td>\n",
       "      <td>35.0</td>\n",
       "      <td>35.0</td>\n",
       "      <td>...</td>\n",
       "      <td>1.0</td>\n",
       "      <td>1.0</td>\n",
       "      <td>0.0</td>\n",
       "      <td>0.0</td>\n",
       "      <td>1.0</td>\n",
       "      <td>0.0</td>\n",
       "      <td>0.0</td>\n",
       "      <td>0.0</td>\n",
       "      <td>0.0</td>\n",
       "      <td>0.0</td>\n",
       "    </tr>\n",
       "    <tr>\n",
       "      <th>2</th>\n",
       "      <td>40.0</td>\n",
       "      <td>0.6</td>\n",
       "      <td>2.0</td>\n",
       "      <td>0.0</td>\n",
       "      <td>1.0</td>\n",
       "      <td>0.0</td>\n",
       "      <td>1600.0</td>\n",
       "      <td>24.0</td>\n",
       "      <td>80.0</td>\n",
       "      <td>0.0</td>\n",
       "      <td>...</td>\n",
       "      <td>4.0</td>\n",
       "      <td>0.0</td>\n",
       "      <td>2.0</td>\n",
       "      <td>0.0</td>\n",
       "      <td>0.0</td>\n",
       "      <td>0.0</td>\n",
       "      <td>0.0</td>\n",
       "      <td>1.0</td>\n",
       "      <td>0.0</td>\n",
       "      <td>0.0</td>\n",
       "    </tr>\n",
       "    <tr>\n",
       "      <th>3</th>\n",
       "      <td>90.0</td>\n",
       "      <td>1.2</td>\n",
       "      <td>2.0</td>\n",
       "      <td>0.0</td>\n",
       "      <td>0.0</td>\n",
       "      <td>1.0</td>\n",
       "      <td>8100.0</td>\n",
       "      <td>108.0</td>\n",
       "      <td>180.0</td>\n",
       "      <td>0.0</td>\n",
       "      <td>...</td>\n",
       "      <td>4.0</td>\n",
       "      <td>0.0</td>\n",
       "      <td>0.0</td>\n",
       "      <td>2.0</td>\n",
       "      <td>0.0</td>\n",
       "      <td>0.0</td>\n",
       "      <td>0.0</td>\n",
       "      <td>0.0</td>\n",
       "      <td>0.0</td>\n",
       "      <td>1.0</td>\n",
       "    </tr>\n",
       "    <tr>\n",
       "      <th>4</th>\n",
       "      <td>50.0</td>\n",
       "      <td>0.5</td>\n",
       "      <td>0.0</td>\n",
       "      <td>0.0</td>\n",
       "      <td>1.0</td>\n",
       "      <td>0.0</td>\n",
       "      <td>2500.0</td>\n",
       "      <td>25.0</td>\n",
       "      <td>0.0</td>\n",
       "      <td>0.0</td>\n",
       "      <td>...</td>\n",
       "      <td>0.0</td>\n",
       "      <td>0.0</td>\n",
       "      <td>0.0</td>\n",
       "      <td>0.0</td>\n",
       "      <td>0.0</td>\n",
       "      <td>0.0</td>\n",
       "      <td>0.0</td>\n",
       "      <td>1.0</td>\n",
       "      <td>0.0</td>\n",
       "      <td>0.0</td>\n",
       "    </tr>\n",
       "    <tr>\n",
       "      <th>5</th>\n",
       "      <td>80.0</td>\n",
       "      <td>1.4</td>\n",
       "      <td>1.0</td>\n",
       "      <td>0.0</td>\n",
       "      <td>0.0</td>\n",
       "      <td>1.0</td>\n",
       "      <td>6400.0</td>\n",
       "      <td>112.0</td>\n",
       "      <td>80.0</td>\n",
       "      <td>0.0</td>\n",
       "      <td>...</td>\n",
       "      <td>1.0</td>\n",
       "      <td>0.0</td>\n",
       "      <td>0.0</td>\n",
       "      <td>1.0</td>\n",
       "      <td>0.0</td>\n",
       "      <td>0.0</td>\n",
       "      <td>0.0</td>\n",
       "      <td>0.0</td>\n",
       "      <td>0.0</td>\n",
       "      <td>1.0</td>\n",
       "    </tr>\n",
       "  </tbody>\n",
       "</table>\n",
       "<p>6 rows × 27 columns</p>\n",
       "</div>"
      ],
      "text/plain": [
       "   speed  height  quality  is_cat  is_dog  is_lion  speed^2  speed height  \\\n",
       "0   20.0     0.3      0.0     1.0     0.0      0.0    400.0           6.0   \n",
       "1   35.0     0.4      1.0     1.0     0.0      0.0   1225.0          14.0   \n",
       "2   40.0     0.6      2.0     0.0     1.0      0.0   1600.0          24.0   \n",
       "3   90.0     1.2      2.0     0.0     0.0      1.0   8100.0         108.0   \n",
       "4   50.0     0.5      0.0     0.0     1.0      0.0   2500.0          25.0   \n",
       "5   80.0     1.4      1.0     0.0     0.0      1.0   6400.0         112.0   \n",
       "\n",
       "   speed quality  speed is_cat  ...  quality^2  quality is_cat  \\\n",
       "0            0.0          20.0  ...        0.0             0.0   \n",
       "1           35.0          35.0  ...        1.0             1.0   \n",
       "2           80.0           0.0  ...        4.0             0.0   \n",
       "3          180.0           0.0  ...        4.0             0.0   \n",
       "4            0.0           0.0  ...        0.0             0.0   \n",
       "5           80.0           0.0  ...        1.0             0.0   \n",
       "\n",
       "   quality is_dog  quality is_lion  is_cat^2  is_cat is_dog  is_cat is_lion  \\\n",
       "0             0.0              0.0       1.0            0.0             0.0   \n",
       "1             0.0              0.0       1.0            0.0             0.0   \n",
       "2             2.0              0.0       0.0            0.0             0.0   \n",
       "3             0.0              2.0       0.0            0.0             0.0   \n",
       "4             0.0              0.0       0.0            0.0             0.0   \n",
       "5             0.0              1.0       0.0            0.0             0.0   \n",
       "\n",
       "   is_dog^2  is_dog is_lion  is_lion^2  \n",
       "0       0.0             0.0        0.0  \n",
       "1       0.0             0.0        0.0  \n",
       "2       1.0             0.0        0.0  \n",
       "3       0.0             0.0        1.0  \n",
       "4       1.0             0.0        0.0  \n",
       "5       0.0             0.0        1.0  \n",
       "\n",
       "[6 rows x 27 columns]"
      ]
     },
     "execution_count": 100,
     "metadata": {},
     "output_type": "execute_result"
    }
   ],
   "source": [
    "from sklearn.preprocessing import PolynomialFeatures\n",
    "import re\n",
    "\n",
    "def get_original_feature(column_name, original_columns):\n",
    "    variables_ids = re.findall('x([0-9]+)', column_name)\n",
    "    if variables_ids:\n",
    "        for variable_id in variables_ids:\n",
    "            col_no = int(variable_id)\n",
    "\n",
    "            column_name = re.sub('x' + variable_id, original_columns[col_no], column_name)\n",
    "    return column_name\n",
    "\n",
    "transformer = PolynomialFeatures(include_bias=False).fit(data)\n",
    "pd.DataFrame(transformer.transform(data), columns=[get_original_feature(col, data.columns) for col in transformer.get_feature_names()])"
   ]
  },
  {
   "cell_type": "markdown",
   "metadata": {},
   "source": [
    "### Method III: Log/Exp Transform - Function Transformer\n",
    "\n",
    "Another method to create new features is by using some function to transform the data. Commonplace is to use the natural logarithm - $x_{new} = log(1 + x)$ for positive values or exponentiation $x_{new} = e^{x}$.\n",
    "\n",
    "This is achieved using the [FunctionTransformer](https://scikit-learn.org/stable/modules/generated/sklearn.preprocessing.FunctionTransformer.html) and with the [log1p](https://docs.scipy.org/doc/numpy/reference/generated/numpy.log1p.html) or [exp](https://docs.scipy.org/doc/numpy/reference/generated/numpy.exp.html) functions.\n"
   ]
  },
  {
   "cell_type": "code",
   "execution_count": 111,
   "metadata": {
    "jupyter": {
     "source_hidden": true
    }
   },
   "outputs": [
    {
     "data": {
      "text/html": [
       "<div>\n",
       "<style scoped>\n",
       "    .dataframe tbody tr th:only-of-type {\n",
       "        vertical-align: middle;\n",
       "    }\n",
       "\n",
       "    .dataframe tbody tr th {\n",
       "        vertical-align: top;\n",
       "    }\n",
       "\n",
       "    .dataframe thead th {\n",
       "        text-align: right;\n",
       "    }\n",
       "</style>\n",
       "<table border=\"1\" class=\"dataframe\">\n",
       "  <thead>\n",
       "    <tr style=\"text-align: right;\">\n",
       "      <th></th>\n",
       "      <th>speed</th>\n",
       "      <th>height</th>\n",
       "      <th>quality</th>\n",
       "      <th>is_cat</th>\n",
       "      <th>is_dog</th>\n",
       "      <th>is_lion</th>\n",
       "      <th>log_speed</th>\n",
       "      <th>log_height</th>\n",
       "    </tr>\n",
       "  </thead>\n",
       "  <tbody>\n",
       "    <tr>\n",
       "      <th>0</th>\n",
       "      <td>20</td>\n",
       "      <td>0.3</td>\n",
       "      <td>0</td>\n",
       "      <td>1</td>\n",
       "      <td>0</td>\n",
       "      <td>0</td>\n",
       "      <td>3.044522</td>\n",
       "      <td>0.262364</td>\n",
       "    </tr>\n",
       "    <tr>\n",
       "      <th>1</th>\n",
       "      <td>35</td>\n",
       "      <td>0.4</td>\n",
       "      <td>1</td>\n",
       "      <td>1</td>\n",
       "      <td>0</td>\n",
       "      <td>0</td>\n",
       "      <td>3.583519</td>\n",
       "      <td>0.336472</td>\n",
       "    </tr>\n",
       "    <tr>\n",
       "      <th>2</th>\n",
       "      <td>40</td>\n",
       "      <td>0.6</td>\n",
       "      <td>2</td>\n",
       "      <td>0</td>\n",
       "      <td>1</td>\n",
       "      <td>0</td>\n",
       "      <td>3.713572</td>\n",
       "      <td>0.470004</td>\n",
       "    </tr>\n",
       "    <tr>\n",
       "      <th>3</th>\n",
       "      <td>90</td>\n",
       "      <td>1.2</td>\n",
       "      <td>2</td>\n",
       "      <td>0</td>\n",
       "      <td>0</td>\n",
       "      <td>1</td>\n",
       "      <td>4.510860</td>\n",
       "      <td>0.788457</td>\n",
       "    </tr>\n",
       "    <tr>\n",
       "      <th>4</th>\n",
       "      <td>50</td>\n",
       "      <td>0.5</td>\n",
       "      <td>0</td>\n",
       "      <td>0</td>\n",
       "      <td>1</td>\n",
       "      <td>0</td>\n",
       "      <td>3.931826</td>\n",
       "      <td>0.405465</td>\n",
       "    </tr>\n",
       "    <tr>\n",
       "      <th>5</th>\n",
       "      <td>80</td>\n",
       "      <td>1.4</td>\n",
       "      <td>1</td>\n",
       "      <td>0</td>\n",
       "      <td>0</td>\n",
       "      <td>1</td>\n",
       "      <td>4.394449</td>\n",
       "      <td>0.875469</td>\n",
       "    </tr>\n",
       "  </tbody>\n",
       "</table>\n",
       "</div>"
      ],
      "text/plain": [
       "   speed  height  quality  is_cat  is_dog  is_lion  log_speed  log_height\n",
       "0     20     0.3        0       1       0        0   3.044522    0.262364\n",
       "1     35     0.4        1       1       0        0   3.583519    0.336472\n",
       "2     40     0.6        2       0       1        0   3.713572    0.470004\n",
       "3     90     1.2        2       0       0        1   4.510860    0.788457\n",
       "4     50     0.5        0       0       1        0   3.931826    0.405465\n",
       "5     80     1.4        1       0       0        1   4.394449    0.875469"
      ]
     },
     "execution_count": 111,
     "metadata": {},
     "output_type": "execute_result"
    }
   ],
   "source": [
    "from sklearn.preprocessing import FunctionTransformer\n",
    "import numpy as np\n",
    "\n",
    "columns_to_transform = ['speed', 'height']\n",
    "\n",
    "transformer = FunctionTransformer(np.log1p, validate=True).fit(data[columns_to_transform])\n",
    "\n",
    "pd.concat([\n",
    "    data,\n",
    "    pd.DataFrame(\n",
    "       transformer.transform(data[columns_to_transform]),\n",
    "       columns=['log_' + col for col in columns_to_transform]\n",
    "    )\n",
    "], axis=1)"
   ]
  },
  {
   "cell_type": "markdown",
   "metadata": {},
   "source": [
    "### Method IV: Dimensionality reduction\n",
    "\n",
    "For some datasets, dimensionality reduction is a good way to create new features that are a linear/non-linear combination of the old featutures to be used instead, thus reducing the number of features. This is also good for data visualization.\n",
    "\n",
    "[PCA](https://scikit-learn.org/stable/modules/generated/sklearn.decomposition.PCA.html) is such an algorithm. Remember the covariance of two random variables. If their covariance is 0, then the variables can be considered statisticaly independent of each other. If we manage to transform our data in such a way that each column is independent of the others, then we can successfully eliminate the *redundancy* of the data.\n",
    "\n",
    "\n",
    "Let $\\Sigma_X = XX^T$. On it's diagonal there are the variances of each of the columns. The rest of the values are the pairwise covariances of the columns. You can notice that this matrix is symetrical (self-adjoint, hermitian). If we apply a decomposition called [SVD decomposition](https://en.wikipedia.org/wiki/Singular_value_decomposition) on this matrix, we will obtain a orthogonal matrix $S$ $(SS^T = S^TS = I_n)$ and a diagonal matrix $\\Lambda$ such that $\\Sigma_X = S\\Lambda S^T$. Now let $Y = S^T X$. The covariance matrix of $Y$ is:\n",
    "\n",
    "$\\Sigma_Y = YY^T = (S^TX)(S^TX)^T = S^TXX^TS = (S^T\\Sigma_X S) = S^TS\\Lambda S^TS = I_n \\Lambda I_n = \\Lambda$ which is a diagonal matrix, covariance 0. As such, Y is the new representation of the data. Furthemore, the columns of $Y$ will be sorted by importance. As such, only some of the first columns can be used as the new dataset or only the first 2 columns for data vizualization."
   ]
  },
  {
   "cell_type": "code",
   "execution_count": 133,
   "metadata": {
    "jupyter": {
     "source_hidden": true
    }
   },
   "outputs": [
    {
     "data": {
      "text/html": [
       "<div>\n",
       "<style scoped>\n",
       "    .dataframe tbody tr th:only-of-type {\n",
       "        vertical-align: middle;\n",
       "    }\n",
       "\n",
       "    .dataframe tbody tr th {\n",
       "        vertical-align: top;\n",
       "    }\n",
       "\n",
       "    .dataframe thead th {\n",
       "        text-align: right;\n",
       "    }\n",
       "</style>\n",
       "<table border=\"1\" class=\"dataframe\">\n",
       "  <thead>\n",
       "    <tr style=\"text-align: right;\">\n",
       "      <th></th>\n",
       "      <th>speed</th>\n",
       "      <th>height</th>\n",
       "      <th>quality</th>\n",
       "      <th>is_cat</th>\n",
       "      <th>is_dog</th>\n",
       "      <th>is_lion</th>\n",
       "      <th>pca_feature1</th>\n",
       "      <th>pca_feature2</th>\n",
       "    </tr>\n",
       "  </thead>\n",
       "  <tbody>\n",
       "    <tr>\n",
       "      <th>0</th>\n",
       "      <td>20</td>\n",
       "      <td>0.3</td>\n",
       "      <td>0</td>\n",
       "      <td>1</td>\n",
       "      <td>0</td>\n",
       "      <td>0</td>\n",
       "      <td>-32.520019</td>\n",
       "      <td>-0.601164</td>\n",
       "    </tr>\n",
       "    <tr>\n",
       "      <th>1</th>\n",
       "      <td>35</td>\n",
       "      <td>0.4</td>\n",
       "      <td>1</td>\n",
       "      <td>1</td>\n",
       "      <td>0</td>\n",
       "      <td>0</td>\n",
       "      <td>-17.509843</td>\n",
       "      <td>0.123310</td>\n",
       "    </tr>\n",
       "    <tr>\n",
       "      <th>2</th>\n",
       "      <td>40</td>\n",
       "      <td>0.6</td>\n",
       "      <td>2</td>\n",
       "      <td>0</td>\n",
       "      <td>1</td>\n",
       "      <td>0</td>\n",
       "      <td>-12.483491</td>\n",
       "      <td>1.374534</td>\n",
       "    </tr>\n",
       "    <tr>\n",
       "      <th>3</th>\n",
       "      <td>90</td>\n",
       "      <td>1.2</td>\n",
       "      <td>2</td>\n",
       "      <td>0</td>\n",
       "      <td>0</td>\n",
       "      <td>1</td>\n",
       "      <td>37.522051</td>\n",
       "      <td>0.308370</td>\n",
       "    </tr>\n",
       "    <tr>\n",
       "      <th>4</th>\n",
       "      <td>50</td>\n",
       "      <td>0.5</td>\n",
       "      <td>0</td>\n",
       "      <td>0</td>\n",
       "      <td>1</td>\n",
       "      <td>0</td>\n",
       "      <td>-2.522732</td>\n",
       "      <td>-0.710906</td>\n",
       "    </tr>\n",
       "    <tr>\n",
       "      <th>5</th>\n",
       "      <td>80</td>\n",
       "      <td>1.4</td>\n",
       "      <td>1</td>\n",
       "      <td>0</td>\n",
       "      <td>0</td>\n",
       "      <td>1</td>\n",
       "      <td>27.514034</td>\n",
       "      <td>-0.494142</td>\n",
       "    </tr>\n",
       "  </tbody>\n",
       "</table>\n",
       "</div>"
      ],
      "text/plain": [
       "   speed  height  quality  is_cat  is_dog  is_lion  pca_feature1  pca_feature2\n",
       "0     20     0.3        0       1       0        0    -32.520019     -0.601164\n",
       "1     35     0.4        1       1       0        0    -17.509843      0.123310\n",
       "2     40     0.6        2       0       1        0    -12.483491      1.374534\n",
       "3     90     1.2        2       0       0        1     37.522051      0.308370\n",
       "4     50     0.5        0       0       1        0     -2.522732     -0.710906\n",
       "5     80     1.4        1       0       0        1     27.514034     -0.494142"
      ]
     },
     "execution_count": 133,
     "metadata": {},
     "output_type": "execute_result"
    }
   ],
   "source": [
    "from sklearn.decomposition import PCA\n",
    "import numpy as np\n",
    "\n",
    "transformer = PCA(n_components=2).fit(data)\n",
    "pca_data = transformer.transform(data)\n",
    "\n",
    "pd.concat([\n",
    "    data,\n",
    "    pd.DataFrame(\n",
    "       pca_data,\n",
    "       columns=['pca_feature' + str(idx) for idx in range(1, pca_data.shape[1] + 1)]\n",
    "    )\n",
    "], axis=1)"
   ]
  },
  {
   "cell_type": "markdown",
   "metadata": {},
   "source": [
    "## Data Visualization\n",
    "\n",
    "Let's say we want to have insight about the data or present them to our coworkers or audience. The common method for by showing plots of the data."
   ]
  },
  {
   "cell_type": "code",
   "execution_count": 177,
   "metadata": {
    "jupyter": {
     "source_hidden": true
    }
   },
   "outputs": [],
   "source": [
    "import matplotlib.pyplot as plt\n",
    "import seaborn as sbn"
   ]
  },
  {
   "cell_type": "markdown",
   "metadata": {},
   "source": [
    "### Method I: Histogram/Distribution plot"
   ]
  },
  {
   "cell_type": "code",
   "execution_count": 40,
   "metadata": {
    "jupyter": {
     "source_hidden": true
    }
   },
   "outputs": [
    {
     "data": {
      "text/plain": [
       "<matplotlib.axes._subplots.AxesSubplot at 0x12d0ee850>"
      ]
     },
     "execution_count": 40,
     "metadata": {},
     "output_type": "execute_result"
    },
    {
     "data": {
      "image/png": "[encoded data removed]",
      "text/plain": [
       "<Figure size 360x360 with 1 Axes>"
      ]
     },
     "metadata": {
      "needs_background": "light"
     },
     "output_type": "display_data"
    }
   ],
   "source": [
    "fig, ax = plt.subplots(1, 1, figsize=(5, 5))\n",
    "sbn.distplot(data['speed'], ax=ax)"
   ]
  },
  {
   "cell_type": "markdown",
   "metadata": {},
   "source": [
    "### Method II: Boxplot"
   ]
  },
  {
   "cell_type": "code",
   "execution_count": 175,
   "metadata": {
    "jupyter": {
     "source_hidden": true
    }
   },
   "outputs": [
    {
     "data": {
      "text/plain": [
       "<matplotlib.axes._subplots.AxesSubplot at 0x13190e850>"
      ]
     },
     "execution_count": 175,
     "metadata": {},
     "output_type": "execute_result"
    },
    {
     "data": {
      "image/png": "[encoded data removed]",
      "text/plain": [
       "<Figure size 360x360 with 1 Axes>"
      ]
     },
     "metadata": {
      "needs_background": "light"
     },
     "output_type": "display_data"
    }
   ],
   "source": [
    "fig, ax = plt.subplots(1, 1, figsize=(5, 5))\n",
    "sbn.boxplot(x=initial_data['animal'], y=data['speed'], ax=ax)"
   ]
  },
  {
   "cell_type": "markdown",
   "metadata": {},
   "source": [
    "### Method III: Scatter plot"
   ]
  },
  {
   "cell_type": "code",
   "execution_count": 53,
   "metadata": {
    "jupyter": {
     "source_hidden": true
    }
   },
   "outputs": [
    {
     "data": {
      "text/plain": [
       "<matplotlib.axes._subplots.AxesSubplot at 0x12fa3fb90>"
      ]
     },
     "execution_count": 53,
     "metadata": {},
     "output_type": "execute_result"
    },
    {
     "data": {
      "image/png": "[encoded data removed]",
      "text/plain": [
       "<Figure size 360x360 with 1 Axes>"
      ]
     },
     "metadata": {
      "needs_background": "light"
     },
     "output_type": "display_data"
    }
   ],
   "source": [
    "fig, ax = plt.subplots(1, 1, figsize=(5, 5))\n",
    "sbn.scatterplot(x=data['speed'], y=data['height'], hue=initial_data['animal'], ax=ax)"
   ]
  },
  {
   "cell_type": "markdown",
   "metadata": {},
   "source": [
    "### Method IV: Line plot"
   ]
  },
  {
   "cell_type": "code",
   "execution_count": 64,
   "metadata": {
    "jupyter": {
     "source_hidden": true
    }
   },
   "outputs": [
    {
     "data": {
      "text/plain": [
       "<matplotlib.axes._subplots.AxesSubplot at 0x12fb30f90>"
      ]
     },
     "execution_count": 64,
     "metadata": {},
     "output_type": "execute_result"
    },
    {
     "data": {
      "image/png": "[encoded data removed]",
      "text/plain": [
       "<Figure size 360x360 with 1 Axes>"
      ]
     },
     "metadata": {
      "needs_background": "light"
     },
     "output_type": "display_data"
    }
   ],
   "source": [
    "fig, ax = plt.subplots(1, 1, figsize=(5, 5))\n",
    "sbn.lineplot(x=data['speed'], y=data['quality'], hue=initial_data['animal'], ax=ax)"
   ]
  },
  {
   "cell_type": "markdown",
   "metadata": {},
   "source": [
    "### Method V: Dimensionality reduction scatter plot"
   ]
  },
  {
   "cell_type": "code",
   "execution_count": 135,
   "metadata": {
    "jupyter": {
     "source_hidden": true
    }
   },
   "outputs": [
    {
     "data": {
      "text/plain": [
       "<matplotlib.axes._subplots.AxesSubplot at 0x12fcbba50>"
      ]
     },
     "execution_count": 135,
     "metadata": {},
     "output_type": "execute_result"
    },
    {
     "data": {
      "image/png": "[encoded data removed]",
      "text/plain": [
       "<Figure size 360x360 with 1 Axes>"
      ]
     },
     "metadata": {
      "needs_background": "light"
     },
     "output_type": "display_data"
    }
   ],
   "source": [
    "fig, ax = plt.subplots(1, 1, figsize=(5, 5))\n",
    "sbn.scatterplot(pca_data[:, 0], pca_data[:, 1], hue=initial_data['animal'], ax=ax)"
   ]
  },
  {
   "cell_type": "markdown",
   "metadata": {},
   "source": [
    "# Project requirements"
   ]
  },
  {
   "cell_type": "markdown",
   "metadata": {},
   "source": [
    "* At least two methods for data vizualization\n",
    "* At least one method for preprocessing\n",
    "* At least one clustering algorithm\n",
    "* At least one metric function for the clustering\n",
    "* At least one vizualization of the clustering results using dimensionality reduction or a scatterplot or decision boundaries.\n",
    "* Split the data into a train / test set. Make sure to only train on the train set. Test only on the test set.\n",
    "* Further split the train set into a train and validation set and use the validation set or use K-Fold cross validation to find the optimal hyperparameters for the algorithm.\n",
    "* At least two classification algorithms\n",
    "* At least two metric functions for the classification\n",
    "* At least one vizualization of the classification results using dimensionality reduction for a scatterplot or decision boundaries.\n",
    "* Comparisons between the results of the two classifiers (using the choosen metrics and any other observsations)"
   ]
  },
  {
   "cell_type": "markdown",
   "metadata": {},
   "source": [
    "## Algorithms Requirements"
   ]
  },
  {
   "cell_type": "markdown",
   "metadata": {},
   "source": [
    "### Gaussian Naive Bayes\n",
    "\n",
    "Make sure to use the [GaussianNB](https://scikit-learn.org/stable/modules/generated/sklearn.naive_bayes.GaussianNB.html#sklearn.naive_bayes.GaussianNB).\n",
    "\n",
    "Requirements:\n",
    "* Show the results of the metrics on the train set (this should be high) and very important, on the test set (this should be more realistic)\n",
    "* Plot the importance of each feature (there is a method that fetches the feature importance)\n",
    "* For each label and feature plot the gaussian distributions.\n",
    "\n",
    "Tips:\n",
    "* Categorical columns do not need preprocessing\n",
    "* Try both with/without scaling\n",
    "* Try to put ordered values in bins if it makes sense to do so"
   ]
  },
  {
   "cell_type": "markdown",
   "metadata": {},
   "source": [
    "### Decision Trees\n",
    "\n",
    "Make sure to use the [DecisionTreeClassifier](https://scikit-learn.org/stable/modules/generated/sklearn.tree.DecisionTreeClassifier.html#sklearn.tree.DecisionTreeClassifier).\n",
    "\n",
    "#### Requirements:\n",
    "* Vizualize the full / partial tree\n",
    "  * Make sure that the nodes are vizible (plot a smaller tree if the full tree is to big)\n",
    "  * Make sure it's vizible\n",
    "* Plot the metric when some of the hyperparameters of the algorithm are increased / decreased to have a general idea of what happens\n",
    "* Show the results of the metrics on the train set (this should be high) and very important, on the test set (this should be more realistic)\n",
    "* Plot the importance of each feature (there is a method that fetches the feature importance)\n",
    "\n",
    "#### Tips:\n",
    "* Big trees can fail hard. Make sure to have some prunning."
   ]
  },
  {
   "cell_type": "markdown",
   "metadata": {},
   "source": [
    "### AdaBoost\n",
    "\n",
    "Make sure to use the [AdaBoostClassifier](https://scikit-learn.org/stable/modules/generated/sklearn.ensemble.AdaBoostClassifier.html).\n",
    "\n",
    "\n",
    "#### Requirements:\n",
    "* Use only DecisionTrees of size of max 3\n",
    "* Plot the values for the alphas\n",
    "* Plot the metric when some of the hyperparameters of the algorithm (or the base classifier) are increased / decreased to have a general idea of what happens\n",
    "* Show the results of the metrics on the train set (this should be high) and very important, on the test set (this should be more realistic)\n",
    "* Plot the importance of each feature (there is a method that fetches the feature importance)\n",
    "* Plot the best classifiers (the ones with the greatest absolute alpha)\n",
    "\n",
    "#### Tips:\n",
    "* Too many classifiers can lead to overfit and too little to underfit. Make sure to set realistic number. Try multiple variants."
   ]
  },
  {
   "cell_type": "markdown",
   "metadata": {},
   "source": [
    "### K-NN\n",
    "\n",
    "Make sure to use the [KNeighborsClassifier](https://scikit-learn.org/stable/modules/generated/sklearn.neighbors.KNeighborsClassifier.html).\n",
    "\n",
    "#### Requirements:\n",
    "* Plot the metric when `K` is increased / decreased\n",
    "* Plot the metric when some of the other hyperparameters of the algorithm are increased / decreased to have a general idea of what happens\n",
    "* Show the results of the metrics on the train set (this should be high) and very important, on the test set (this should be more realistic)\n",
    "* Also try K-NN after dimensionality reduction is applied\n",
    "* Plot decision boundaries for 1-NN on a 2 component PCA\n",
    "\n",
    "#### Tips:\n",
    "* Make sure you normalize the data as the algorithm if very sensible. The bigger the values for a column the more importance that column will have. As such all columns should be in the same range."
   ]
  },
  {
   "cell_type": "markdown",
   "metadata": {},
   "source": [
    "### KMeans\n",
    "\n",
    "Make sure to use the [KMeans](https://scikit-learn.org/stable/modules/generated/sklearn.cluster.KMeans.html).\n",
    "\n",
    "#### Requirements:\n",
    "* Plot the metric when `K` is increased / decreased\n",
    "* Plot the metric when some of the other hyperparameters of the algorithm are increased / decreased to have a general idea of what happens\n",
    "* Show the centroids values (for images show the image of the centroid)\n",
    "\n",
    "#### Tips:\n",
    "* Make sure you normalize the data as the algorithm if very sensible. The bigger the values for a column the more importance that column will have. As such all columns should be in the same range."
   ]
  },
  {
   "cell_type": "markdown",
   "metadata": {},
   "source": [
    "### Hierarhical Clustering\n",
    "\n",
    "Make sure to use the [AgglomerativeClustering](https://scikit-learn.org/stable/modules/generated/sklearn.cluster.AgglomerativeClustering.html#sklearn.cluster.AgglomerativeClustering).\n",
    "\n",
    "#### Requirements:\n",
    "* Plot the dendrogram (or at least the top part) and explain how the cutoff happened and where.\n",
    "* Plot the metric when some of the other hyperparameters of the algorithm are increased / decreased to have a general idea of what happens\n",
    "\n",
    "#### Tips:\n",
    "* Make sure you normalize the data as the algorithm if very sensible. The bigger the values for a column the more importance that column will have. As such all columns should be in the same range."
   ]
  },
  {
   "cell_type": "markdown",
   "metadata": {},
   "source": [
    "### EM\n",
    "\n",
    "Make sure to use the [GaussianMixture](https://scikit-learn.org/stable/modules/generated/sklearn.mixture.GaussianMixture.html).\n",
    "\n",
    "#### Requirements:\n",
    "* Plot the metric when `K` is increased / decreased\n",
    "* Plot the metric when some of the other hyperparameters of the algorithm are increased / decreased to have a general idea of what happens\n",
    "\n",
    "#### Tips:\n",
    "* Make sure you normalize the data as the algorithm if very sensible. The bigger the values for a column the more importance that column will have. As such all columns should be in the same range."
   ]
  },
  {
   "cell_type": "code",
   "execution_count": null,
   "metadata": {},
   "outputs": [],
   "source": []
  }
 ],
 "metadata": {
  "kernelspec": {
   "display_name": "Python 3",
   "language": "python",
   "name": "python3"
  },
  "language_info": {
   "codemirror_mode": {
    "name": "ipython",
    "version": 3
   },
   "file_extension": ".py",
   "mimetype": "text/x-python",
   "name": "python",
   "nbconvert_exporter": "python",
   "pygments_lexer": "ipython3",
   "version": "3.7.4"
  }
 },
 "nbformat": 4,
 "nbformat_minor": 4
}
